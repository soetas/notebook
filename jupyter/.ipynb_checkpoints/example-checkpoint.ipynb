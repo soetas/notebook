{
 "cells": [
  {
   "cell_type": "code",
   "execution_count": null,
   "id": "e9962b7e",
   "metadata": {},
   "outputs": [],
   "source": [
    "\"\"\"\n",
    "\n",
    "\n",
    "\n",
    "\"\"\""
   ]
  },
  {
   "cell_type": "markdown",
   "id": "e5feca71",
   "metadata": {},
   "source": [
    "## Heading 2\n",
    "\n",
    "\n",
    "### Heading 3-1\n",
    "\n",
    "\n",
    "### Heading 3-2\n",
    "\n",
    "\n",
    "### Heading 3-3\n"
   ]
  },
  {
   "cell_type": "code",
   "execution_count": 7,
   "id": "05944719",
   "metadata": {},
   "outputs": [],
   "source": [
    "print?"
   ]
  },
  {
   "cell_type": "code",
   "execution_count": 8,
   "id": "2a6fa809",
   "metadata": {},
   "outputs": [],
   "source": [
    "import random \n",
    "\n",
    "random.random()"
   ]
  },
  {
   "cell_type": "code",
   "execution_count": 9,
   "id": "7956ad77",
   "metadata": {},
   "outputs": [
    {
     "data": {
      "text/plain": [
       "'D:\\\\projects\\\\notebook\\\\jupyter'"
      ]
     },
     "execution_count": 9,
     "metadata": {},
     "output_type": "execute_result"
    }
   ],
   "source": [
    "%pwd"
   ]
  },
  {
   "cell_type": "code",
   "execution_count": 11,
   "id": "844f1157",
   "metadata": {},
   "outputs": [
    {
     "name": "stdout",
     "output_type": "stream",
     "text": [
      "242 µs ± 25 µs per loop (mean ± std. dev. of 7 runs, 1,000 loops each)\n"
     ]
    }
   ],
   "source": [
    "%timeit [x for x in range(1000) if x%5 == 0 or x%3 == 0]"
   ]
  },
  {
   "cell_type": "code",
   "execution_count": 15,
   "id": "ba97a98b",
   "metadata": {},
   "outputs": [
    {
     "name": "stdout",
     "output_type": "stream",
     "text": [
      "365 µs ± 49.1 µs per loop (mean ± std. dev. of 7 runs, 1,000 loops each)\n"
     ]
    }
   ],
   "source": [
    "%timeit list(filter(lambda x:x%5 == 0 or x%3 == 0, range(1000)))"
   ]
  },
  {
   "cell_type": "code",
   "execution_count": null,
   "id": "f2e84219",
   "metadata": {},
   "outputs": [],
   "source": []
  }
 ],
 "metadata": {
  "kernelspec": {
   "display_name": "Python 3 (ipykernel)",
   "language": "python",
   "name": "python3"
  },
  "language_info": {
   "codemirror_mode": {
    "name": "ipython",
    "version": 3
   },
   "file_extension": ".py",
   "mimetype": "text/x-python",
   "name": "python",
   "nbconvert_exporter": "python",
   "pygments_lexer": "ipython3",
   "version": "3.8.2"
  }
 },
 "nbformat": 4,
 "nbformat_minor": 5
}
